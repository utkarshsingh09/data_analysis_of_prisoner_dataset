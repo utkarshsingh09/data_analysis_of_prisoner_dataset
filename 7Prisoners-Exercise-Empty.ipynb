{
 "cells": [
  {
   "cell_type": "markdown",
   "metadata": {},
   "source": [
    "# Prisoners Data Visualization"
   ]
  },
  {
   "cell_type": "markdown",
   "metadata": {},
   "source": [
    "### Step 1: Import the necessary libraries"
   ]
  },
  {
   "cell_type": "code",
   "execution_count": 160,
   "metadata": {},
   "outputs": [],
   "source": [
    "import pandas as pd"
   ]
  },
  {
   "cell_type": "markdown",
   "metadata": {},
   "source": [
    "### Step 2: Load the data and display first 5 and last 5 records"
   ]
  },
  {
   "cell_type": "code",
   "execution_count": 161,
   "metadata": {},
   "outputs": [],
   "source": [
    "data=pd.read_csv('prisoners-dataset.csv')"
   ]
  },
  {
   "cell_type": "code",
   "execution_count": 162,
   "metadata": {},
   "outputs": [
    {
     "data": {
      "text/html": [
       "<div>\n",
       "<style scoped>\n",
       "    .dataframe tbody tr th:only-of-type {\n",
       "        vertical-align: middle;\n",
       "    }\n",
       "\n",
       "    .dataframe tbody tr th {\n",
       "        vertical-align: top;\n",
       "    }\n",
       "\n",
       "    .dataframe thead th {\n",
       "        text-align: right;\n",
       "    }\n",
       "</style>\n",
       "<table border=\"1\" class=\"dataframe\">\n",
       "  <thead>\n",
       "    <tr style=\"text-align: right;\">\n",
       "      <th></th>\n",
       "      <th>STATE/UT</th>\n",
       "      <th>YEAR</th>\n",
       "      <th>No. of Inmates benefitted by Elementary Education</th>\n",
       "      <th>No. of Inmates benefitted by Adult Education</th>\n",
       "      <th>No. of Inmates benefitted by Higher Education</th>\n",
       "      <th>No. of Inmates benefitted by Computer Course</th>\n",
       "    </tr>\n",
       "  </thead>\n",
       "  <tbody>\n",
       "    <tr>\n",
       "      <th>0</th>\n",
       "      <td>Andhra Pradesh</td>\n",
       "      <td>2013</td>\n",
       "      <td>9480</td>\n",
       "      <td>13758</td>\n",
       "      <td>672</td>\n",
       "      <td>170</td>\n",
       "    </tr>\n",
       "    <tr>\n",
       "      <th>1</th>\n",
       "      <td>Arunachal Pradesh</td>\n",
       "      <td>2013</td>\n",
       "      <td>0</td>\n",
       "      <td>0</td>\n",
       "      <td>0</td>\n",
       "      <td>0</td>\n",
       "    </tr>\n",
       "    <tr>\n",
       "      <th>2</th>\n",
       "      <td>Assam</td>\n",
       "      <td>2013</td>\n",
       "      <td>676</td>\n",
       "      <td>750</td>\n",
       "      <td>14</td>\n",
       "      <td>30</td>\n",
       "    </tr>\n",
       "    <tr>\n",
       "      <th>3</th>\n",
       "      <td>Bihar</td>\n",
       "      <td>2013</td>\n",
       "      <td>1693</td>\n",
       "      <td>3013</td>\n",
       "      <td>125</td>\n",
       "      <td>1417</td>\n",
       "    </tr>\n",
       "    <tr>\n",
       "      <th>4</th>\n",
       "      <td>Chhatisgarh</td>\n",
       "      <td>2013</td>\n",
       "      <td>1664</td>\n",
       "      <td>1803</td>\n",
       "      <td>192</td>\n",
       "      <td>103</td>\n",
       "    </tr>\n",
       "  </tbody>\n",
       "</table>\n",
       "</div>"
      ],
      "text/plain": [
       "            STATE/UT  YEAR  No. of Inmates benefitted by Elementary Education  \\\n",
       "0     Andhra Pradesh  2013                                               9480   \n",
       "1  Arunachal Pradesh  2013                                                  0   \n",
       "2              Assam  2013                                                676   \n",
       "3              Bihar  2013                                               1693   \n",
       "4        Chhatisgarh  2013                                               1664   \n",
       "\n",
       "   No. of Inmates benefitted by Adult Education  \\\n",
       "0                                         13758   \n",
       "1                                             0   \n",
       "2                                           750   \n",
       "3                                          3013   \n",
       "4                                          1803   \n",
       "\n",
       "   No. of Inmates benefitted by Higher Education  \\\n",
       "0                                            672   \n",
       "1                                              0   \n",
       "2                                             14   \n",
       "3                                            125   \n",
       "4                                            192   \n",
       "\n",
       "   No. of Inmates benefitted by Computer Course  \n",
       "0                                           170  \n",
       "1                                             0  \n",
       "2                                            30  \n",
       "3                                          1417  \n",
       "4                                           103  "
      ]
     },
     "execution_count": 162,
     "metadata": {},
     "output_type": "execute_result"
    }
   ],
   "source": [
    "data.head()"
   ]
  },
  {
   "cell_type": "markdown",
   "metadata": {},
   "source": [
    "### Step 3: Describe the data"
   ]
  },
  {
   "cell_type": "code",
   "execution_count": 163,
   "metadata": {},
   "outputs": [
    {
     "data": {
      "text/html": [
       "<div>\n",
       "<style scoped>\n",
       "    .dataframe tbody tr th:only-of-type {\n",
       "        vertical-align: middle;\n",
       "    }\n",
       "\n",
       "    .dataframe tbody tr th {\n",
       "        vertical-align: top;\n",
       "    }\n",
       "\n",
       "    .dataframe thead th {\n",
       "        text-align: right;\n",
       "    }\n",
       "</style>\n",
       "<table border=\"1\" class=\"dataframe\">\n",
       "  <thead>\n",
       "    <tr style=\"text-align: right;\">\n",
       "      <th></th>\n",
       "      <th>YEAR</th>\n",
       "      <th>No. of Inmates benefitted by Elementary Education</th>\n",
       "      <th>No. of Inmates benefitted by Adult Education</th>\n",
       "      <th>No. of Inmates benefitted by Higher Education</th>\n",
       "      <th>No. of Inmates benefitted by Computer Course</th>\n",
       "    </tr>\n",
       "  </thead>\n",
       "  <tbody>\n",
       "    <tr>\n",
       "      <th>count</th>\n",
       "      <td>35.0</td>\n",
       "      <td>35.000000</td>\n",
       "      <td>35.000000</td>\n",
       "      <td>35.000000</td>\n",
       "      <td>35.000000</td>\n",
       "    </tr>\n",
       "    <tr>\n",
       "      <th>mean</th>\n",
       "      <td>2013.0</td>\n",
       "      <td>1057.914286</td>\n",
       "      <td>1534.857143</td>\n",
       "      <td>237.457143</td>\n",
       "      <td>210.171429</td>\n",
       "    </tr>\n",
       "    <tr>\n",
       "      <th>std</th>\n",
       "      <td>0.0</td>\n",
       "      <td>2078.196777</td>\n",
       "      <td>3022.110503</td>\n",
       "      <td>375.614191</td>\n",
       "      <td>359.117340</td>\n",
       "    </tr>\n",
       "    <tr>\n",
       "      <th>min</th>\n",
       "      <td>2013.0</td>\n",
       "      <td>0.000000</td>\n",
       "      <td>0.000000</td>\n",
       "      <td>0.000000</td>\n",
       "      <td>0.000000</td>\n",
       "    </tr>\n",
       "    <tr>\n",
       "      <th>25%</th>\n",
       "      <td>2013.0</td>\n",
       "      <td>0.000000</td>\n",
       "      <td>6.500000</td>\n",
       "      <td>2.000000</td>\n",
       "      <td>0.000000</td>\n",
       "    </tr>\n",
       "    <tr>\n",
       "      <th>50%</th>\n",
       "      <td>2013.0</td>\n",
       "      <td>167.000000</td>\n",
       "      <td>237.000000</td>\n",
       "      <td>33.000000</td>\n",
       "      <td>38.000000</td>\n",
       "    </tr>\n",
       "    <tr>\n",
       "      <th>75%</th>\n",
       "      <td>2013.0</td>\n",
       "      <td>1294.500000</td>\n",
       "      <td>1733.500000</td>\n",
       "      <td>234.500000</td>\n",
       "      <td>227.500000</td>\n",
       "    </tr>\n",
       "    <tr>\n",
       "      <th>max</th>\n",
       "      <td>2013.0</td>\n",
       "      <td>9480.000000</td>\n",
       "      <td>13758.000000</td>\n",
       "      <td>1353.000000</td>\n",
       "      <td>1417.000000</td>\n",
       "    </tr>\n",
       "  </tbody>\n",
       "</table>\n",
       "</div>"
      ],
      "text/plain": [
       "         YEAR  No. of Inmates benefitted by Elementary Education  \\\n",
       "count    35.0                                          35.000000   \n",
       "mean   2013.0                                        1057.914286   \n",
       "std       0.0                                        2078.196777   \n",
       "min    2013.0                                           0.000000   \n",
       "25%    2013.0                                           0.000000   \n",
       "50%    2013.0                                         167.000000   \n",
       "75%    2013.0                                        1294.500000   \n",
       "max    2013.0                                        9480.000000   \n",
       "\n",
       "       No. of Inmates benefitted by Adult Education  \\\n",
       "count                                     35.000000   \n",
       "mean                                    1534.857143   \n",
       "std                                     3022.110503   \n",
       "min                                        0.000000   \n",
       "25%                                        6.500000   \n",
       "50%                                      237.000000   \n",
       "75%                                     1733.500000   \n",
       "max                                    13758.000000   \n",
       "\n",
       "       No. of Inmates benefitted by Higher Education  \\\n",
       "count                                      35.000000   \n",
       "mean                                      237.457143   \n",
       "std                                       375.614191   \n",
       "min                                         0.000000   \n",
       "25%                                         2.000000   \n",
       "50%                                        33.000000   \n",
       "75%                                       234.500000   \n",
       "max                                      1353.000000   \n",
       "\n",
       "       No. of Inmates benefitted by Computer Course  \n",
       "count                                     35.000000  \n",
       "mean                                     210.171429  \n",
       "std                                      359.117340  \n",
       "min                                        0.000000  \n",
       "25%                                        0.000000  \n",
       "50%                                       38.000000  \n",
       "75%                                      227.500000  \n",
       "max                                     1417.000000  "
      ]
     },
     "execution_count": 163,
     "metadata": {},
     "output_type": "execute_result"
    }
   ],
   "source": [
    "data.describe()"
   ]
  },
  {
   "cell_type": "markdown",
   "metadata": {},
   "source": [
    "### Step 4: Create a column 'total_benefitted' that shows sum of inmates with respect to each State/UT"
   ]
  },
  {
   "cell_type": "code",
   "execution_count": 164,
   "metadata": {},
   "outputs": [],
   "source": [
    "data.drop('YEAR',axis=1,inplace=True)"
   ]
  },
  {
   "cell_type": "code",
   "execution_count": 165,
   "metadata": {},
   "outputs": [
    {
     "data": {
      "text/html": [
       "<div>\n",
       "<style scoped>\n",
       "    .dataframe tbody tr th:only-of-type {\n",
       "        vertical-align: middle;\n",
       "    }\n",
       "\n",
       "    .dataframe tbody tr th {\n",
       "        vertical-align: top;\n",
       "    }\n",
       "\n",
       "    .dataframe thead th {\n",
       "        text-align: right;\n",
       "    }\n",
       "</style>\n",
       "<table border=\"1\" class=\"dataframe\">\n",
       "  <thead>\n",
       "    <tr style=\"text-align: right;\">\n",
       "      <th></th>\n",
       "      <th>STATE/UT</th>\n",
       "      <th>No. of Inmates benefitted by Elementary Education</th>\n",
       "      <th>No. of Inmates benefitted by Adult Education</th>\n",
       "      <th>No. of Inmates benefitted by Higher Education</th>\n",
       "      <th>No. of Inmates benefitted by Computer Course</th>\n",
       "    </tr>\n",
       "  </thead>\n",
       "  <tbody>\n",
       "    <tr>\n",
       "      <th>0</th>\n",
       "      <td>Andhra Pradesh</td>\n",
       "      <td>9480</td>\n",
       "      <td>13758</td>\n",
       "      <td>672</td>\n",
       "      <td>170</td>\n",
       "    </tr>\n",
       "    <tr>\n",
       "      <th>1</th>\n",
       "      <td>Arunachal Pradesh</td>\n",
       "      <td>0</td>\n",
       "      <td>0</td>\n",
       "      <td>0</td>\n",
       "      <td>0</td>\n",
       "    </tr>\n",
       "    <tr>\n",
       "      <th>2</th>\n",
       "      <td>Assam</td>\n",
       "      <td>676</td>\n",
       "      <td>750</td>\n",
       "      <td>14</td>\n",
       "      <td>30</td>\n",
       "    </tr>\n",
       "    <tr>\n",
       "      <th>3</th>\n",
       "      <td>Bihar</td>\n",
       "      <td>1693</td>\n",
       "      <td>3013</td>\n",
       "      <td>125</td>\n",
       "      <td>1417</td>\n",
       "    </tr>\n",
       "    <tr>\n",
       "      <th>4</th>\n",
       "      <td>Chhatisgarh</td>\n",
       "      <td>1664</td>\n",
       "      <td>1803</td>\n",
       "      <td>192</td>\n",
       "      <td>103</td>\n",
       "    </tr>\n",
       "  </tbody>\n",
       "</table>\n",
       "</div>"
      ],
      "text/plain": [
       "            STATE/UT  No. of Inmates benefitted by Elementary Education  \\\n",
       "0     Andhra Pradesh                                               9480   \n",
       "1  Arunachal Pradesh                                                  0   \n",
       "2              Assam                                                676   \n",
       "3              Bihar                                               1693   \n",
       "4        Chhatisgarh                                               1664   \n",
       "\n",
       "   No. of Inmates benefitted by Adult Education  \\\n",
       "0                                         13758   \n",
       "1                                             0   \n",
       "2                                           750   \n",
       "3                                          3013   \n",
       "4                                          1803   \n",
       "\n",
       "   No. of Inmates benefitted by Higher Education  \\\n",
       "0                                            672   \n",
       "1                                              0   \n",
       "2                                             14   \n",
       "3                                            125   \n",
       "4                                            192   \n",
       "\n",
       "   No. of Inmates benefitted by Computer Course  \n",
       "0                                           170  \n",
       "1                                             0  \n",
       "2                                            30  \n",
       "3                                          1417  \n",
       "4                                           103  "
      ]
     },
     "execution_count": 165,
     "metadata": {},
     "output_type": "execute_result"
    }
   ],
   "source": [
    "data.head()"
   ]
  },
  {
   "cell_type": "code",
   "execution_count": 166,
   "metadata": {},
   "outputs": [],
   "source": [
    "data['total']=data.sum(axis=1)"
   ]
  },
  {
   "cell_type": "code",
   "execution_count": 167,
   "metadata": {},
   "outputs": [
    {
     "data": {
      "text/html": [
       "<div>\n",
       "<style scoped>\n",
       "    .dataframe tbody tr th:only-of-type {\n",
       "        vertical-align: middle;\n",
       "    }\n",
       "\n",
       "    .dataframe tbody tr th {\n",
       "        vertical-align: top;\n",
       "    }\n",
       "\n",
       "    .dataframe thead th {\n",
       "        text-align: right;\n",
       "    }\n",
       "</style>\n",
       "<table border=\"1\" class=\"dataframe\">\n",
       "  <thead>\n",
       "    <tr style=\"text-align: right;\">\n",
       "      <th></th>\n",
       "      <th>STATE/UT</th>\n",
       "      <th>No. of Inmates benefitted by Elementary Education</th>\n",
       "      <th>No. of Inmates benefitted by Adult Education</th>\n",
       "      <th>No. of Inmates benefitted by Higher Education</th>\n",
       "      <th>No. of Inmates benefitted by Computer Course</th>\n",
       "      <th>total</th>\n",
       "    </tr>\n",
       "  </thead>\n",
       "  <tbody>\n",
       "    <tr>\n",
       "      <th>0</th>\n",
       "      <td>Andhra Pradesh</td>\n",
       "      <td>9480</td>\n",
       "      <td>13758</td>\n",
       "      <td>672</td>\n",
       "      <td>170</td>\n",
       "      <td>24080</td>\n",
       "    </tr>\n",
       "    <tr>\n",
       "      <th>1</th>\n",
       "      <td>Arunachal Pradesh</td>\n",
       "      <td>0</td>\n",
       "      <td>0</td>\n",
       "      <td>0</td>\n",
       "      <td>0</td>\n",
       "      <td>0</td>\n",
       "    </tr>\n",
       "    <tr>\n",
       "      <th>2</th>\n",
       "      <td>Assam</td>\n",
       "      <td>676</td>\n",
       "      <td>750</td>\n",
       "      <td>14</td>\n",
       "      <td>30</td>\n",
       "      <td>1470</td>\n",
       "    </tr>\n",
       "    <tr>\n",
       "      <th>3</th>\n",
       "      <td>Bihar</td>\n",
       "      <td>1693</td>\n",
       "      <td>3013</td>\n",
       "      <td>125</td>\n",
       "      <td>1417</td>\n",
       "      <td>6248</td>\n",
       "    </tr>\n",
       "    <tr>\n",
       "      <th>4</th>\n",
       "      <td>Chhatisgarh</td>\n",
       "      <td>1664</td>\n",
       "      <td>1803</td>\n",
       "      <td>192</td>\n",
       "      <td>103</td>\n",
       "      <td>3762</td>\n",
       "    </tr>\n",
       "  </tbody>\n",
       "</table>\n",
       "</div>"
      ],
      "text/plain": [
       "            STATE/UT  No. of Inmates benefitted by Elementary Education  \\\n",
       "0     Andhra Pradesh                                               9480   \n",
       "1  Arunachal Pradesh                                                  0   \n",
       "2              Assam                                                676   \n",
       "3              Bihar                                               1693   \n",
       "4        Chhatisgarh                                               1664   \n",
       "\n",
       "   No. of Inmates benefitted by Adult Education  \\\n",
       "0                                         13758   \n",
       "1                                             0   \n",
       "2                                           750   \n",
       "3                                          3013   \n",
       "4                                          1803   \n",
       "\n",
       "   No. of Inmates benefitted by Higher Education  \\\n",
       "0                                            672   \n",
       "1                                              0   \n",
       "2                                             14   \n",
       "3                                            125   \n",
       "4                                            192   \n",
       "\n",
       "   No. of Inmates benefitted by Computer Course  total  \n",
       "0                                           170  24080  \n",
       "1                                             0      0  \n",
       "2                                            30   1470  \n",
       "3                                          1417   6248  \n",
       "4                                           103   3762  "
      ]
     },
     "execution_count": 167,
     "metadata": {},
     "output_type": "execute_result"
    }
   ],
   "source": [
    "data.head()"
   ]
  },
  {
   "cell_type": "markdown",
   "metadata": {},
   "source": [
    "### Step 5: Create a bar char with total benefitted inmates values in descending order"
   ]
  },
  {
   "cell_type": "code",
   "execution_count": 168,
   "metadata": {},
   "outputs": [],
   "source": [
    "import matplotlib.pyplot as plt"
   ]
  },
  {
   "cell_type": "code",
   "execution_count": 169,
   "metadata": {},
   "outputs": [],
   "source": [
    "total_benefitted_data=data[data['total']>0]"
   ]
  },
  {
   "cell_type": "code",
   "execution_count": 170,
   "metadata": {},
   "outputs": [],
   "source": [
    "total_benefitted_data=total_benefitted_data.sort_values('total',ascending=False)"
   ]
  },
  {
   "cell_type": "code",
   "execution_count": 171,
   "metadata": {},
   "outputs": [],
   "source": [
    "total_benefitted_data=total_benefitted_data[:8]"
   ]
  },
  {
   "cell_type": "code",
   "execution_count": 172,
   "metadata": {},
   "outputs": [
    {
     "data": {
      "text/html": [
       "<div>\n",
       "<style scoped>\n",
       "    .dataframe tbody tr th:only-of-type {\n",
       "        vertical-align: middle;\n",
       "    }\n",
       "\n",
       "    .dataframe tbody tr th {\n",
       "        vertical-align: top;\n",
       "    }\n",
       "\n",
       "    .dataframe thead th {\n",
       "        text-align: right;\n",
       "    }\n",
       "</style>\n",
       "<table border=\"1\" class=\"dataframe\">\n",
       "  <thead>\n",
       "    <tr style=\"text-align: right;\">\n",
       "      <th></th>\n",
       "      <th>STATE/UT</th>\n",
       "      <th>No. of Inmates benefitted by Elementary Education</th>\n",
       "      <th>No. of Inmates benefitted by Adult Education</th>\n",
       "      <th>No. of Inmates benefitted by Higher Education</th>\n",
       "      <th>No. of Inmates benefitted by Computer Course</th>\n",
       "      <th>total</th>\n",
       "    </tr>\n",
       "  </thead>\n",
       "  <tbody>\n",
       "    <tr>\n",
       "      <th>0</th>\n",
       "      <td>Andhra Pradesh</td>\n",
       "      <td>9480</td>\n",
       "      <td>13758</td>\n",
       "      <td>672</td>\n",
       "      <td>170</td>\n",
       "      <td>24080</td>\n",
       "    </tr>\n",
       "    <tr>\n",
       "      <th>25</th>\n",
       "      <td>Uttar Pradesh</td>\n",
       "      <td>7876</td>\n",
       "      <td>8093</td>\n",
       "      <td>1353</td>\n",
       "      <td>212</td>\n",
       "      <td>17534</td>\n",
       "    </tr>\n",
       "    <tr>\n",
       "      <th>13</th>\n",
       "      <td>Madhya Pradesh</td>\n",
       "      <td>1978</td>\n",
       "      <td>9574</td>\n",
       "      <td>301</td>\n",
       "      <td>151</td>\n",
       "      <td>12004</td>\n",
       "    </tr>\n",
       "    <tr>\n",
       "      <th>6</th>\n",
       "      <td>Gujarat</td>\n",
       "      <td>2310</td>\n",
       "      <td>3133</td>\n",
       "      <td>875</td>\n",
       "      <td>966</td>\n",
       "      <td>7284</td>\n",
       "    </tr>\n",
       "    <tr>\n",
       "      <th>10</th>\n",
       "      <td>Jharkhand</td>\n",
       "      <td>3008</td>\n",
       "      <td>2595</td>\n",
       "      <td>138</td>\n",
       "      <td>574</td>\n",
       "      <td>6315</td>\n",
       "    </tr>\n",
       "  </tbody>\n",
       "</table>\n",
       "</div>"
      ],
      "text/plain": [
       "          STATE/UT  No. of Inmates benefitted by Elementary Education  \\\n",
       "0   Andhra Pradesh                                               9480   \n",
       "25   Uttar Pradesh                                               7876   \n",
       "13  Madhya Pradesh                                               1978   \n",
       "6          Gujarat                                               2310   \n",
       "10       Jharkhand                                               3008   \n",
       "\n",
       "    No. of Inmates benefitted by Adult Education  \\\n",
       "0                                          13758   \n",
       "25                                          8093   \n",
       "13                                          9574   \n",
       "6                                           3133   \n",
       "10                                          2595   \n",
       "\n",
       "    No. of Inmates benefitted by Higher Education  \\\n",
       "0                                             672   \n",
       "25                                           1353   \n",
       "13                                            301   \n",
       "6                                             875   \n",
       "10                                            138   \n",
       "\n",
       "    No. of Inmates benefitted by Computer Course  total  \n",
       "0                                            170  24080  \n",
       "25                                           212  17534  \n",
       "13                                           151  12004  \n",
       "6                                            966   7284  \n",
       "10                                           574   6315  "
      ]
     },
     "execution_count": 172,
     "metadata": {},
     "output_type": "execute_result"
    }
   ],
   "source": [
    "total_benefitted_data.head()"
   ]
  },
  {
   "cell_type": "code",
   "execution_count": 173,
   "metadata": {},
   "outputs": [
    {
     "data": {
      "image/png": "[encoded data removed]",
      "text/plain": [
       "<Figure size 1080x504 with 1 Axes>"
      ]
     },
     "metadata": {},
     "output_type": "display_data"
    }
   ],
   "source": [
    "total_benefitted_data['total'].plot(kind='bar')\n",
    "plt.savefig('total benifited data.png')"
   ]
  },
  {
   "cell_type": "code",
   "execution_count": 174,
   "metadata": {},
   "outputs": [],
   "source": [
    "import seaborn as sns"
   ]
  },
  {
   "cell_type": "code",
   "execution_count": 175,
   "metadata": {},
   "outputs": [],
   "source": [
    "sns.set()"
   ]
  },
  {
   "cell_type": "code",
   "execution_count": 176,
   "metadata": {},
   "outputs": [],
   "source": [
    "total_benefitted_data=total_benefitted_data.set_index('STATE/UT')"
   ]
  },
  {
   "cell_type": "code",
   "execution_count": 177,
   "metadata": {},
   "outputs": [],
   "source": [
    "font={\n",
    "    'size': 20\n",
    "}"
   ]
  },
  {
   "cell_type": "code",
   "execution_count": 178,
   "metadata": {},
   "outputs": [
    {
     "data": {
      "image/png": "[encoded data removed]",
      "text/plain": [
       "<Figure size 720x360 with 1 Axes>"
      ]
     },
     "metadata": {},
     "output_type": "display_data"
    }
   ],
   "source": [
    "plt.figure(figsize=(10,5))\n",
    "total_benefitted_data['total'].plot(kind='bar')\n",
    "plt.xticks(rotation=30)\n",
    "plt.xlabel('STATE',fontdict=font)\n",
    "plt.ylabel('Person benefitted',fontdict=font)\n",
    "plt.title('State vs Person Benefitted',fontdict=font)\n",
    "plt.savefig('State vs Person Benefitted.png')"
   ]
  },
  {
   "cell_type": "code",
   "execution_count": null,
   "metadata": {},
   "outputs": [],
   "source": []
  },
  {
   "cell_type": "markdown",
   "metadata": {},
   "source": [
    "### Step 6: Create a pie chart to show ratio among different modes of benefits"
   ]
  },
  {
   "cell_type": "code",
   "execution_count": 179,
   "metadata": {},
   "outputs": [],
   "source": [
    "total_adults_benefit = data['No. of Inmates benefitted by Adult Education'].sum(axis=0)"
   ]
  },
  {
   "cell_type": "code",
   "execution_count": 180,
   "metadata": {},
   "outputs": [],
   "source": [
    "total_elementary = data['No. of Inmates benefitted by Elementary Education'].sum(axis=0)"
   ]
  },
  {
   "cell_type": "code",
   "execution_count": 181,
   "metadata": {},
   "outputs": [],
   "source": [
    "total_higher = data['No. of Inmates benefitted by Higher Education'].sum(axis=0)"
   ]
  },
  {
   "cell_type": "code",
   "execution_count": 182,
   "metadata": {},
   "outputs": [],
   "source": [
    "total_computer = data['No. of Inmates benefitted by Computer Course'].sum(axis=0)"
   ]
  },
  {
   "cell_type": "code",
   "execution_count": 183,
   "metadata": {},
   "outputs": [],
   "source": [
    "total_benefits = {'Adults Benefits': total_adults_benefit,\n",
    "                 'Elementary Benefits': total_elementary,\n",
    "                 'Higher Benefits': total_higher,\n",
    "                 'Computer Benefits': total_computer}"
   ]
  },
  {
   "cell_type": "code",
   "execution_count": 184,
   "metadata": {},
   "outputs": [],
   "source": [
    "total_benefits_df = pd.Series(data=total_benefits)"
   ]
  },
  {
   "cell_type": "code",
   "execution_count": 185,
   "metadata": {},
   "outputs": [
    {
     "data": {
      "text/plain": [
       "Adults Benefits        53720\n",
       "Elementary Benefits    37027\n",
       "Higher Benefits         8311\n",
       "Computer Benefits       7356\n",
       "dtype: int64"
      ]
     },
     "execution_count": 185,
     "metadata": {},
     "output_type": "execute_result"
    }
   ],
   "source": [
    "total_benefits_df"
   ]
  },
  {
   "cell_type": "code",
   "execution_count": 186,
   "metadata": {},
   "outputs": [
    {
     "data": {
      "image/png": "[encoded data removed]",
      "text/plain": [
       "<Figure size 720x504 with 1 Axes>"
      ]
     },
     "metadata": {},
     "output_type": "display_data"
    }
   ],
   "source": [
    "plt.figure(figsize=(10, 7))\n",
    "plt.pie(total_benefits_df, labels=total_benefits_df.index, \n",
    "        autopct=\"%.2f\", explode=(0, 0, 0, 0))\n",
    "plt.savefig('piechart.png')"
   ]
  },
  {
   "cell_type": "markdown",
   "metadata": {},
   "source": [
    "### Step 7: For the 5 highest benefitted states, create \n",
    "1. Bar chart. \n",
    "2. Stacked bar chart \n",
    "3. 100% stacked chart"
   ]
  },
  {
   "cell_type": "code",
   "execution_count": 187,
   "metadata": {},
   "outputs": [],
   "source": [
    "total_benefitted_data=total_benefitted_data[:5]"
   ]
  },
  {
   "cell_type": "code",
   "execution_count": 188,
   "metadata": {},
   "outputs": [
    {
     "data": {
      "text/plain": [
       "Index(['No. of Inmates benefitted by Elementary Education',\n",
       "       'No. of Inmates benefitted by Adult Education',\n",
       "       'No. of Inmates benefitted by Higher Education',\n",
       "       'No. of Inmates benefitted by Computer Course', 'total'],\n",
       "      dtype='object')"
      ]
     },
     "execution_count": 188,
     "metadata": {},
     "output_type": "execute_result"
    }
   ],
   "source": [
    "total_benefitted_data.columns"
   ]
  },
  {
   "cell_type": "code",
   "execution_count": 189,
   "metadata": {},
   "outputs": [],
   "source": [
    "total_benefitted_data.rename({\n",
    "    'No. of Inmates benefitted by Elementary Education': 'Elementary',\n",
    "    'No. of Inmates benefitted by Adult Education': 'Adult',\n",
    "    'No. of Inmates benefitted by Higher Education': 'Higher',\n",
    "    'No. of Inmates benefitted by Computer Course': 'Computer'\n",
    "}, axis=1, inplace=True)"
   ]
  },
  {
   "cell_type": "code",
   "execution_count": 190,
   "metadata": {},
   "outputs": [
    {
     "data": {
      "text/plain": [
       "Index(['Elementary', 'Adult', 'Higher', 'Computer', 'total'], dtype='object')"
      ]
     },
     "execution_count": 190,
     "metadata": {},
     "output_type": "execute_result"
    }
   ],
   "source": [
    "total_benefitted_data.columns"
   ]
  },
  {
   "cell_type": "markdown",
   "metadata": {},
   "source": [
    "### bar chart"
   ]
  },
  {
   "cell_type": "code",
   "execution_count": 191,
   "metadata": {},
   "outputs": [
    {
     "data": {
      "image/png": "[encoded data removed]",
      "text/plain": [
       "<Figure size 1080x504 with 1 Axes>"
      ]
     },
     "metadata": {},
     "output_type": "display_data"
    }
   ],
   "source": [
    "sns.set(rc={'figure.figsize':(15, 7)})\n",
    "total_benefitted_data.plot(kind='bar')\n",
    "plt.savefig('barchart.png')"
   ]
  },
  {
   "cell_type": "markdown",
   "metadata": {},
   "source": [
    "### stacked bar chart"
   ]
  },
  {
   "cell_type": "code",
   "execution_count": 192,
   "metadata": {},
   "outputs": [
    {
     "data": {
      "image/png": "[encoded data removed]",
      "text/plain": [
       "<Figure size 1080x504 with 1 Axes>"
      ]
     },
     "metadata": {},
     "output_type": "display_data"
    }
   ],
   "source": [
    "sns.set(rc={'figure.figsize':(15,7)})\n",
    "total_benefitted_data[['Elementary','Adult','Higher','Computer']].plot(kind='bar', stacked=True)\n",
    "plt.savefig('stack.png')"
   ]
  },
  {
   "cell_type": "code",
   "execution_count": 193,
   "metadata": {},
   "outputs": [
    {
     "data": {
      "text/plain": [
       "<matplotlib.axes._subplots.AxesSubplot at 0x25f55a21da0>"
      ]
     },
     "execution_count": 193,
     "metadata": {},
     "output_type": "execute_result"
    },
    {
     "data": {
      "image/png": "[encoded data removed]",
      "text/plain": [
       "<Figure size 1080x504 with 1 Axes>"
      ]
     },
     "metadata": {},
     "output_type": "display_data"
    }
   ],
   "source": [
    "sns.set(rc={'figure.figsize':(15,7)})\n",
    "total_benefitted_data[['Elementary','Adult','Higher','Computer']].plot(kind='bar', stacked=True)\n"
   ]
  },
  {
   "cell_type": "code",
   "execution_count": 194,
   "metadata": {},
   "outputs": [],
   "source": [
    "new_data = total_benefitted_data.apply(lambda x: round(100 * x/total_benefitted_data['total']))"
   ]
  },
  {
   "cell_type": "code",
   "execution_count": null,
   "metadata": {},
   "outputs": [],
   "source": []
  },
  {
   "cell_type": "code",
   "execution_count": 195,
   "metadata": {},
   "outputs": [
    {
     "data": {
      "text/html": [
       "<div>\n",
       "<style scoped>\n",
       "    .dataframe tbody tr th:only-of-type {\n",
       "        vertical-align: middle;\n",
       "    }\n",
       "\n",
       "    .dataframe tbody tr th {\n",
       "        vertical-align: top;\n",
       "    }\n",
       "\n",
       "    .dataframe thead th {\n",
       "        text-align: right;\n",
       "    }\n",
       "</style>\n",
       "<table border=\"1\" class=\"dataframe\">\n",
       "  <thead>\n",
       "    <tr style=\"text-align: right;\">\n",
       "      <th></th>\n",
       "      <th>Elementary</th>\n",
       "      <th>Adult</th>\n",
       "      <th>Higher</th>\n",
       "      <th>Computer</th>\n",
       "      <th>total</th>\n",
       "    </tr>\n",
       "    <tr>\n",
       "      <th>STATE/UT</th>\n",
       "      <th></th>\n",
       "      <th></th>\n",
       "      <th></th>\n",
       "      <th></th>\n",
       "      <th></th>\n",
       "    </tr>\n",
       "  </thead>\n",
       "  <tbody>\n",
       "    <tr>\n",
       "      <th>Andhra Pradesh</th>\n",
       "      <td>39.0</td>\n",
       "      <td>57.0</td>\n",
       "      <td>3.0</td>\n",
       "      <td>1.0</td>\n",
       "      <td>100.0</td>\n",
       "    </tr>\n",
       "    <tr>\n",
       "      <th>Uttar Pradesh</th>\n",
       "      <td>45.0</td>\n",
       "      <td>46.0</td>\n",
       "      <td>8.0</td>\n",
       "      <td>1.0</td>\n",
       "      <td>100.0</td>\n",
       "    </tr>\n",
       "    <tr>\n",
       "      <th>Madhya Pradesh</th>\n",
       "      <td>16.0</td>\n",
       "      <td>80.0</td>\n",
       "      <td>3.0</td>\n",
       "      <td>1.0</td>\n",
       "      <td>100.0</td>\n",
       "    </tr>\n",
       "    <tr>\n",
       "      <th>Gujarat</th>\n",
       "      <td>32.0</td>\n",
       "      <td>43.0</td>\n",
       "      <td>12.0</td>\n",
       "      <td>13.0</td>\n",
       "      <td>100.0</td>\n",
       "    </tr>\n",
       "    <tr>\n",
       "      <th>Jharkhand</th>\n",
       "      <td>48.0</td>\n",
       "      <td>41.0</td>\n",
       "      <td>2.0</td>\n",
       "      <td>9.0</td>\n",
       "      <td>100.0</td>\n",
       "    </tr>\n",
       "  </tbody>\n",
       "</table>\n",
       "</div>"
      ],
      "text/plain": [
       "                Elementary  Adult  Higher  Computer  total\n",
       "STATE/UT                                                  \n",
       "Andhra Pradesh        39.0   57.0     3.0       1.0  100.0\n",
       "Uttar Pradesh         45.0   46.0     8.0       1.0  100.0\n",
       "Madhya Pradesh        16.0   80.0     3.0       1.0  100.0\n",
       "Gujarat               32.0   43.0    12.0      13.0  100.0\n",
       "Jharkhand             48.0   41.0     2.0       9.0  100.0"
      ]
     },
     "execution_count": 195,
     "metadata": {},
     "output_type": "execute_result"
    }
   ],
   "source": [
    "new_data\n"
   ]
  },
  {
   "cell_type": "code",
   "execution_count": null,
   "metadata": {},
   "outputs": [],
   "source": []
  },
  {
   "cell_type": "code",
   "execution_count": 196,
   "metadata": {},
   "outputs": [],
   "source": [
    "new_data.drop('total', axis=1, inplace=True)\n"
   ]
  },
  {
   "cell_type": "code",
   "execution_count": 197,
   "metadata": {},
   "outputs": [
    {
     "data": {
      "text/html": [
       "<div>\n",
       "<style scoped>\n",
       "    .dataframe tbody tr th:only-of-type {\n",
       "        vertical-align: middle;\n",
       "    }\n",
       "\n",
       "    .dataframe tbody tr th {\n",
       "        vertical-align: top;\n",
       "    }\n",
       "\n",
       "    .dataframe thead th {\n",
       "        text-align: right;\n",
       "    }\n",
       "</style>\n",
       "<table border=\"1\" class=\"dataframe\">\n",
       "  <thead>\n",
       "    <tr style=\"text-align: right;\">\n",
       "      <th></th>\n",
       "      <th>Elementary</th>\n",
       "      <th>Adult</th>\n",
       "      <th>Higher</th>\n",
       "      <th>Computer</th>\n",
       "    </tr>\n",
       "    <tr>\n",
       "      <th>STATE/UT</th>\n",
       "      <th></th>\n",
       "      <th></th>\n",
       "      <th></th>\n",
       "      <th></th>\n",
       "    </tr>\n",
       "  </thead>\n",
       "  <tbody>\n",
       "    <tr>\n",
       "      <th>Andhra Pradesh</th>\n",
       "      <td>39.0</td>\n",
       "      <td>57.0</td>\n",
       "      <td>3.0</td>\n",
       "      <td>1.0</td>\n",
       "    </tr>\n",
       "    <tr>\n",
       "      <th>Uttar Pradesh</th>\n",
       "      <td>45.0</td>\n",
       "      <td>46.0</td>\n",
       "      <td>8.0</td>\n",
       "      <td>1.0</td>\n",
       "    </tr>\n",
       "    <tr>\n",
       "      <th>Madhya Pradesh</th>\n",
       "      <td>16.0</td>\n",
       "      <td>80.0</td>\n",
       "      <td>3.0</td>\n",
       "      <td>1.0</td>\n",
       "    </tr>\n",
       "    <tr>\n",
       "      <th>Gujarat</th>\n",
       "      <td>32.0</td>\n",
       "      <td>43.0</td>\n",
       "      <td>12.0</td>\n",
       "      <td>13.0</td>\n",
       "    </tr>\n",
       "    <tr>\n",
       "      <th>Jharkhand</th>\n",
       "      <td>48.0</td>\n",
       "      <td>41.0</td>\n",
       "      <td>2.0</td>\n",
       "      <td>9.0</td>\n",
       "    </tr>\n",
       "  </tbody>\n",
       "</table>\n",
       "</div>"
      ],
      "text/plain": [
       "                Elementary  Adult  Higher  Computer\n",
       "STATE/UT                                           \n",
       "Andhra Pradesh        39.0   57.0     3.0       1.0\n",
       "Uttar Pradesh         45.0   46.0     8.0       1.0\n",
       "Madhya Pradesh        16.0   80.0     3.0       1.0\n",
       "Gujarat               32.0   43.0    12.0      13.0\n",
       "Jharkhand             48.0   41.0     2.0       9.0"
      ]
     },
     "execution_count": 197,
     "metadata": {},
     "output_type": "execute_result"
    }
   ],
   "source": [
    "new_data.head()"
   ]
  },
  {
   "cell_type": "code",
   "execution_count": 198,
   "metadata": {},
   "outputs": [
    {
     "data": {
      "image/png": "[encoded data removed]",
      "text/plain": [
       "<Figure size 1080x504 with 1 Axes>"
      ]
     },
     "metadata": {},
     "output_type": "display_data"
    }
   ],
   "source": [
    "sns.set(rc={'figure.figsize':(15,7)})\n",
    "new_data.plot(kind='bar', stacked=True)\n",
    "plt.savefig('100%stack.png')"
   ]
  },
  {
   "cell_type": "code",
   "execution_count": null,
   "metadata": {},
   "outputs": [],
   "source": []
  }
 ],
 "metadata": {
  "kernelspec": {
   "display_name": "Python 3",
   "language": "python",
   "name": "python3"
  },
  "language_info": {
   "codemirror_mode": {
    "name": "ipython",
    "version": 3
   },
   "file_extension": ".py",
   "mimetype": "text/x-python",
   "name": "python",
   "nbconvert_exporter": "python",
   "pygments_lexer": "ipython3",
   "version": "3.7.0"
  },
  "latex_envs": {
   "LaTeX_envs_menu_present": true,
   "autoclose": false,
   "autocomplete": true,
   "bibliofile": "biblio.bib",
   "cite_by": "apalike",
   "current_citInitial": 1,
   "eqLabelWithNumbers": true,
   "eqNumInitial": 1,
   "hotkeys": {
    "equation": "Ctrl-E",
    "itemize": "Ctrl-I"
   },
   "labels_anchors": false,
   "latex_user_defs": false,
   "report_style_numbering": false,
   "user_envs_cfg": false
  }
 },
 "nbformat": 4,
 "nbformat_minor": 2
}
